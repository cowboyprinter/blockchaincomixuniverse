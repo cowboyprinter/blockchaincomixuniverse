{
  "nbformat": 4,
  "nbformat_minor": 0,
  "metadata": {
    "colab": {
      "provenance": [],
      "authorship_tag": "ABX9TyM9tjtfmVPS/3/LW5Cg+fst",
      "include_colab_link": true
    },
    "kernelspec": {
      "name": "python3",
      "display_name": "Python 3"
    },
    "language_info": {
      "name": "python"
    }
  },
  "cells": [
    {
      "cell_type": "markdown",
      "metadata": {
        "id": "view-in-github",
        "colab_type": "text"
      },
      "source": [
        "<a href=\"https://colab.research.google.com/github/cowboyprinter/blockchaincomixuniverse/blob/main/BCU_organizational_data.ipynb\" target=\"_parent\"><img src=\"https://colab.research.google.com/assets/colab-badge.svg\" alt=\"Open In Colab\"/></a>"
      ]
    },
    {
      "cell_type": "code",
      "execution_count": 36,
      "metadata": {
        "colab": {
          "base_uri": "https://localhost:8080/"
        },
        "id": "6drSQZCL-xHX",
        "outputId": "7692c218-aff5-4824-b285-72d7ac53e704"
      },
      "outputs": [
        {
          "output_type": "stream",
          "name": "stdout",
          "text": [
            "Blockchain Comix Universe\n",
            "                       is proud to present...\n",
            "Crypto Space Pirates     Tales from the Crypto     Alien Sex Crime\n",
            "Private AI   Cafe Cthulhu\n",
            "Push Button Bible\n",
            "              We think it's time for the future. It's time for the lunatics to take over the asylum because the going got wierd, now it's time for the wierd to get going and we have a plan.\n",
            "1. Develop AI Underground Comics, 2. Distribute to marijuana dispensaries, 3. Make the titles UGC digital and LLM generative\n"
          ]
        }
      ],
      "source": [
        "# OH, super! This is really cool. I am just learning to code.\n",
        "\n",
        "\"\"\"\n",
        "Let's see how it goes,\n",
        "Shall we...?\n",
        "\"\"\"\n",
        "\n",
        "my_first_dictionary = {\"BCU\":\"Blockchain Comix Universe\", \"original titles\":\"Crypto Space Pirates     Tales from the Crypto     Alien Sex Crime\",\n",
        "                       \"new titles\":\"Private AI   Cafe Cthulhu\", \"first generative title\":\"Push Button Bible\", \"intro\":\"                       is proud to present...\",\n",
        "                       \"goals\":\"1. Develop AI Underground Comics, 2. Distribute to marijuana dispensaries, 3. Make the titles UGC digital and LLM generative\",\n",
        "                       \"plan speech\":\"              We think it's time for the future. It's time for the lunatics to take over the asylum because the going got wierd, now it's time for the wierd to get going and we have a plan.\"}\n",
        "#print(my_first_dictionary)\n",
        "\n",
        "print(my_first_dictionary[\"BCU\"])\n",
        "print(my_first_dictionary[\"intro\"])\n",
        "print(my_first_dictionary[\"original titles\"])\n",
        "print(my_first_dictionary[\"new titles\"])\n",
        "print(my_first_dictionary[\"first generative title\"])\n",
        "print(my_first_dictionary[\"plan speech\"])\n",
        "print(my_first_dictionary[\"goals\"])\n"
      ]
    },
    {
      "cell_type": "code",
      "source": [
        "# prompt:\n",
        "\n",
        "# Accessing a specific value in the dictionary using its key\n",
        "bcu_meaning = my_first_dictionary[\"BCU\"]\n",
        "print(bcu_meaning)\n",
        "\n",
        "# Accessing multiple values in the dictionary using their keys\n",
        "intro, original_titles = my_first_dictionary[\"intro\"], my_first_dictionary[\"original titles\"]\n",
        "print(intro)\n",
        "print(original_titles)\n",
        "\n",
        "# Accessing all values in the dictionary\n",
        "all_values = my_first_dictionary.values()\n",
        "print(all_values)\n",
        "\n",
        "# Accessing all keys in the dictionary\n",
        "all_keys = my_first_dictionary.keys()\n",
        "print(all_keys)\n",
        "\n",
        "# Accessing all key-value pairs in the dictionary\n",
        "all_items = my_first_dictionary.items()\n",
        "print(all_items)\n"
      ],
      "metadata": {
        "colab": {
          "base_uri": "https://localhost:8080/"
        },
        "id": "5YYwPCjaLChL",
        "outputId": "7aaf0476-a545-499f-ed3e-1ac4e39e7e9b"
      },
      "execution_count": 29,
      "outputs": [
        {
          "output_type": "stream",
          "name": "stdout",
          "text": [
            "Blockchain Comix Universe\n",
            "                       is proud to present...\n",
            "Crypto Space Pirates     Tales from the Crypto     Alien Sex Crime\n",
            "dict_values(['Blockchain Comix Universe', 'Crypto Space Pirates     Tales from the Crypto     Alien Sex Crime', 'Private AI   Cafe Cthulhu', 'Push Button Bible', '                       is proud to present...', '1. Develop AI Underground Comics, 2. Distribute to marijuana dispensaries, 3. Make the titles UGC digital and LLM generative', \"              We think it's time for the future. It's time for the lunatics to take over the asylum because the going got wierd, now it's time for the wierd to get going and we have a plan.\"])\n",
            "dict_keys(['BCU', 'original titles', 'new titles', 'first generative title', 'intro', 'goals', 'plan speech'])\n",
            "dict_items([('BCU', 'Blockchain Comix Universe'), ('original titles', 'Crypto Space Pirates     Tales from the Crypto     Alien Sex Crime'), ('new titles', 'Private AI   Cafe Cthulhu'), ('first generative title', 'Push Button Bible'), ('intro', '                       is proud to present...'), ('goals', '1. Develop AI Underground Comics, 2. Distribute to marijuana dispensaries, 3. Make the titles UGC digital and LLM generative'), ('plan speech', \"              We think it's time for the future. It's time for the lunatics to take over the asylum because the going got wierd, now it's time for the wierd to get going and we have a plan.\")])\n"
          ]
        }
      ]
    }
  ]
}